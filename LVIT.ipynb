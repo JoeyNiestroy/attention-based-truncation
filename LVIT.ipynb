{
 "cells": [
  {
   "cell_type": "code",
   "execution_count": 1,
   "id": "9b8cf020",
   "metadata": {},
   "outputs": [],
   "source": [
    "from transformers import GPT2Tokenizer, TFGPT2LMHeadModel\n",
    "import tensorflow as tf"
   ]
  },
  {
   "cell_type": "code",
   "execution_count": 78,
   "id": "f6cf934a",
   "metadata": {},
   "outputs": [
    {
     "name": "stderr",
     "output_type": "stream",
     "text": [
      "All model checkpoint layers were used when initializing TFGPT2LMHeadModel.\n",
      "\n",
      "All the layers of TFGPT2LMHeadModel were initialized from the model checkpoint at fine_tuned_model_test.\n",
      "If your task is similar to the task the model of the checkpoint was trained on, you can already use TFGPT2LMHeadModel for predictions without further training.\n"
     ]
    }
   ],
   "source": [
    "#Loading in my finetuned model and tokenizer\n",
    "model = TFGPT2LMHeadModel.from_pretrained('fine_tuned_model_test')\n",
    "tokenizer = GPT2Tokenizer.from_pretrained('fine_tuned_pre')"
   ]
  },
  {
   "cell_type": "code",
   "execution_count": 44,
   "id": "928450c7",
   "metadata": {},
   "outputs": [],
   "source": [
    "#Or you could load in the base GPT-2\n",
    "model = TFGPT2LMHeadModel.from_pretrained('gpt2')\n",
    "tokenizer = GPT2Tokenizer.from_pretrained('gpt2')"
   ]
  },
  {
   "cell_type": "code",
   "execution_count": 3,
   "id": "fa653006",
   "metadata": {},
   "outputs": [],
   "source": [
    "#imports and loading in my training data\n",
    "import numpy as np\n",
    "import pandas as pd\n",
    "training_data = pd.read_csv(\"Training_Data.csv\")\n",
    "training_data = training_data.dropna()"
   ]
  },
  {
   "cell_type": "code",
   "execution_count": null,
   "id": "8cd81063",
   "metadata": {},
   "outputs": [],
   "source": [
    "\n",
    "#Function to calcualte avg attention values for each token in a specific attn head. Expects nxn matrix\n",
    "def calculate_average_attention(attention_head):\n",
    "    # Calculate the row-wise and column-wise sums\n",
    "    row_sums = np.sum(attention_head, axis=1)\n",
    "    col_sums = np.sum(attention_head, axis=0)\n",
    "    \n",
    "    # Calculate the sum of attention values on the main diagonal\n",
    "    diagonal_sum = np.diag(attention_head)\n",
    "    \n",
    "    # Calculate the average attention values for each token, substract diagonal for double counted and divsion by seq_length\n",
    "    #bc zeros in top half of arr\n",
    "    num_tokens = attention_head.shape[0]\n",
    "    average_attention = (row_sums + col_sums - diagonal_sum) / (num_tokens)\n",
    "    \n",
    "    return average_attention"
   ]
  },
  {
   "cell_type": "code",
   "execution_count": 7,
   "id": "4bf648a3",
   "metadata": {},
   "outputs": [],
   "source": [
    "#Training loop to create weights_dic, every layer and attention head is looped and the avarge attn scores for each\n",
    "#token is saved in a list in dic. In my code I only used 20K samples to fine tune model, and those same samples are\n",
    "#used to generate the avg attn scores for each token\n",
    "\n",
    "weights_dic = {}\n",
    "for q in list(training_data[\"Questions\"])[0:20000]:\n",
    "    input_ids = tokenizer.encode(q , return_tensors='tf', truncation=True,max_length = 1048)\n",
    "    outputs = model(input_ids, output_attentions=True)\n",
    "    attentions = outputs.attentions\n",
    "    arr = None\n",
    "    for layer in attentions:\n",
    "        for head in layer[0]:\n",
    "            if arr is None:\n",
    "                arr = ((calculate_average_attention(head)))\n",
    "            else:\n",
    "                arr = arr + ((calculate_average_attention(head)))\n",
    "    arr = arr/144\n",
    "    for idx,token_val in enumerate(input_ids[0].numpy()):\n",
    "        if token_val not in weights_dic.keys():\n",
    "            weights_dic[token_val] = [arr[idx]]\n",
    "        else:\n",
    "            weights_dic[token_val].append(arr[idx])"
   ]
  },
  {
   "cell_type": "code",
   "execution_count": 9,
   "id": "2c2710b8",
   "metadata": {},
   "outputs": [],
   "source": [
    "#Average the attn scores for each token\n",
    "for key in weights_dic.keys():\n",
    "    weights_dic[key] = sum(weights_dic[key])/len(weights_dic[key]) "
   ]
  },
  {
   "cell_type": "code",
   "execution_count": null,
   "id": "7b801278",
   "metadata": {},
   "outputs": [],
   "source": []
  },
  {
   "cell_type": "code",
   "execution_count": 93,
   "id": "e6f8c444",
   "metadata": {},
   "outputs": [],
   "source": [
    "\n",
    "\n",
    "#function expects lists\n",
    "def attn_truncate(sequence,dic, max_length):\n",
    "    #Conditional to return already short enough sequence, maybe raise error if expected to padd before\n",
    "    if len(sequence) <= max_length:\n",
    "        return sequence\n",
    "    #Set return arr and temp_dic and avg\n",
    "    return_arr = None\n",
    "    temp_dic = {}\n",
    "    avg = sum(dic.values())/len(dic)\n",
    "    \n",
    "    #convert array to matching attention values, TODO add exception for tokens not in weights_dic\n",
    "    val_arr = [dic[index] for index in sequence]\n",
    "    \n",
    "    #temp_dic becomes reverse dictionary, this could be moved outside of function and passed as arg but keeping simple for now,\n",
    "    #Possible error with values being same when converted to keys, unlikely in my testing\n",
    "    for index in sequence:\n",
    "        temp_dic[dic[index]] = index\n",
    "    \n",
    "    val_arr.sort()\n",
    "    \n",
    "    #convert sorted attention rankings back to token_ids for removal\n",
    "    sorted_ids = [temp_dic[val] for val in val_arr]\n",
    "    \n",
    "    #Remove least valuable information until seq is required length\n",
    "    \n",
    "    for removal_index in range(len(sequence)-max_length):\n",
    "        token_to_remove = sorted_ids[removal_index]\n",
    "        sequence = [x for x in sequence if x != token_to_remove]\n",
    "        \n",
    "        if len(sequence) == max_length:\n",
    "            break\n",
    "    return sequence"
   ]
  },
  {
   "cell_type": "code",
   "execution_count": 105,
   "id": "f59af2ff",
   "metadata": {},
   "outputs": [
    {
     "data": {
      "text/plain": [
       "'<Text> Python works on can used for desktop web I conclude that there is way to compile it into an executable for Mac Windows Linux </Text> <Text> The I have where to start or how to write a GUI with it can anybody on this in please? </Text>'"
      ]
     },
     "execution_count": 105,
     "metadata": {},
     "output_type": "execute_result"
    }
   ],
   "source": [
    "#Example of LVIT \n",
    "input_ids = tokenizer.encode(list(training_data[\"Questions\"])[15], truncation=True, max_length = 1024) #, return_tensors='tf'\n",
    "tokenizer.decode(attn_truncate(input_ids,weights_dic,50))"
   ]
  },
  {
   "cell_type": "code",
   "execution_count": 104,
   "id": "295dd34f",
   "metadata": {},
   "outputs": [
    {
     "data": {
      "text/plain": [
       "'<Text>Python works on multiple platforms and can be used for desktop and web applications, thus I conclude that there is some way to compile it into an executable for Mac, Windows and Linux.</Text>\\r \\r <Text>The problem being I have no idea where to start or how to write a GUI with it, can anybody shed some light on this and point me in the right direction please?</Text>'"
      ]
     },
     "execution_count": 104,
     "metadata": {},
     "output_type": "execute_result"
    }
   ],
   "source": [
    "list(training_data[\"Questions\"])[15]"
   ]
  },
  {
   "cell_type": "code",
   "execution_count": null,
   "id": "3c89a02d",
   "metadata": {},
   "outputs": [],
   "source": []
  }
 ],
 "metadata": {
  "kernelspec": {
   "display_name": "Python 3 (ipykernel)",
   "language": "python",
   "name": "python3"
  },
  "language_info": {
   "codemirror_mode": {
    "name": "ipython",
    "version": 3
   },
   "file_extension": ".py",
   "mimetype": "text/x-python",
   "name": "python",
   "nbconvert_exporter": "python",
   "pygments_lexer": "ipython3",
   "version": "3.9.13"
  }
 },
 "nbformat": 4,
 "nbformat_minor": 5
}
